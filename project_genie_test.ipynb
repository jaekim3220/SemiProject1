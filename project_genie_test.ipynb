{
 "cells": [
  {
   "cell_type": "code",
   "execution_count": null,
   "metadata": {},
   "outputs": [],
   "source": [
    "import pandas as pd\n",
    "from pandas import DataFrame\n",
    "import requests\n",
    "from bs4 import BeautifulSoup\n",
    "import datetime as dt"
   ]
  },
  {
   "cell_type": "code",
   "execution_count": null,
   "metadata": {},
   "outputs": [],
   "source": [
    "# 수집할 음원 사이트의 주소 페이지 설정\n",
    "# 1~50, 51~100으로 2개의 페이지로 나눠져 있음\n",
    "pages = ['1', '2']\n",
    "\n",
    "# dict 형식의 노래제목, 가수, 앨범, 순위를 담을 빈 list 생성\n",
    "genie_chart = []\n",
    "\n",
    "for p in pages:\n",
    "    \n",
    "    # 수집할 컨텐츠가 있는 날짜별 웹 페이지 주소\n",
    "    date = dt.datetime.now().strftime(\"%Y%m%d\")\n",
    "    url = f'https://www.genie.co.kr/chart/top200?ditc=D&ymd={date}&hh=09&rtm=N&pg={p}'\n",
    "    # print(url)\n",
    "\n",
    "    # 브라우저 버전정보\n",
    "    userAgent = 'Mozilla/5.0 (Windows NT 10.0; Win64; x64)AppleWebKit/537.36 (KHTML, like Gecko) Chrome/114.0.0.0 Safari/537.36'\n",
    "\n",
    "    # 접속 객체 생성\n",
    "    # request는 직접 header 정보 갱신이 불가능해 session 생성\n",
    "    session = requests.Session()\n",
    "\n",
    "    # 접속 객체에 부가정보(header) 삽입, 크롤링이 가능하도록 유도\n",
    "    session.headers.update({\n",
    "        \"Referer\": \"\",\n",
    "        \"User-Agent\": userAgent\n",
    "    })\n",
    "\n",
    "    # 생성한 접속 객체를 활용해 웹 페이지에 접속\n",
    "    # 지정된 URL에 GET 요청을 보내고\n",
    "    # 그에 대한 응답을 r 변수에 할당\n",
    "    r = session.get(url)\n",
    "\n",
    "    # 접속 실패 시 에러 코드와 에러 메시지 출력\n",
    "    if r.status_code != 200:\n",
    "        msg = \"[%d Error] %s 에러 발생\" % (r.status_code, r.reason)\n",
    "        raise Exception(msg)\n",
    "\n",
    "    # 인코딩 형식을 지정해 beautifulsoup 객체를 생성\n",
    "    r.encoding = 'utf-8'\n",
    "\n",
    "    # r 변수에 저장된 text 정보를 시각화, 확인\n",
    "    # print(r.text)\n",
    "\n",
    "    # r.text에서 HTML을 파싱하고,\n",
    "    # 파싱된 HTML을 나타내는\n",
    "    # BeautifulSoup 객체 soup를 생성\n",
    "    soup = BeautifulSoup(r.text)\n",
    "    print(soup)"
   ]
  },
  {
   "cell_type": "code",
   "execution_count": null,
   "metadata": {},
   "outputs": [],
   "source": []
  }
 ],
 "metadata": {
  "kernelspec": {
   "display_name": "Python 3",
   "language": "python",
   "name": "python3"
  },
  "language_info": {
   "codemirror_mode": {
    "name": "ipython",
    "version": 3
   },
   "file_extension": ".py",
   "mimetype": "text/x-python",
   "name": "python",
   "nbconvert_exporter": "python",
   "pygments_lexer": "ipython3",
   "version": "3.11.0"
  },
  "orig_nbformat": 4
 },
 "nbformat": 4,
 "nbformat_minor": 2
}
