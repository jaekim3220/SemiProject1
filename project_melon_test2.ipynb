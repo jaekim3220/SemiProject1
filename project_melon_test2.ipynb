{
 "cells": [
  {
   "cell_type": "code",
   "execution_count": null,
   "metadata": {},
   "outputs": [],
   "source": [
    "import pandas as pd\n",
    "from pandas import DataFrame\n",
    "import requests\n",
    "from bs4 import BeautifulSoup"
   ]
  },
  {
   "cell_type": "code",
   "execution_count": null,
   "metadata": {},
   "outputs": [],
   "source": [
    "# 수집할 사이트 주소 설정\n",
    "params = ['', 'day', 'week', 'month']\n",
    "\n",
    "# dict 형식의 노래제목, 가수, 앨범, 순위를 담을 빈 list 생성\n",
    "# 실시간, 일, 주, 월별 순위를 담을 list를 생성\n",
    "melon_chart = []\n",
    "melon_chart_day = []\n",
    "melon_chart_week = []\n",
    "melon_chart_month = []\n",
    "\n",
    "\n",
    "# 실시간, 일, 주, 월별 데이터를 저장할 list 생성\n",
    "chart_list = [melon_chart, melon_chart_day, melon_chart_week, melon_chart_month]\n",
    "\n",
    "for i, param in enumerate(params):\n",
    "    # 수집할 컨텐츠가 있는 웹 페이지 주소\n",
    "    url = f'https://www.melon.com/chart/{param}/index.htm'\n",
    "\n",
    "    # 브라우저 버전정보\n",
    "    userAgent = 'Mozilla/5.0 (Windows NT 10.0; Win64; x64)AppleWebKit/537.36 (KHTML, like Gecko) Chrome/114.0.0.0 Safari/537.36'\n",
    "\n",
    "    # 접속 객체 생성\n",
    "    # request는 직접 header 정보 갱신이 불가능해 session 생성\n",
    "    session = requests.Session()\n",
    "\n",
    "    # 접속 객체에 부가정보(header) 삽입\n",
    "    session.headers.update({\n",
    "        \"Referer\": \"\",\n",
    "        \"User-Agent\": userAgent\n",
    "    })\n",
    "\n",
    "    # 생성한 접속 객체를 활용해 웹 페이지에 접속\n",
    "    # 지정된 URL에 GET 요청을 보내고\n",
    "    # 그에 대한 응답을 r 변수에 할당\n",
    "    r = session.get(url)\n",
    "\n",
    "    # 접속 실패 시 에러 코드와 에러 메시지 출력\n",
    "    if r.status_code != 200:\n",
    "        msg = \"[%d Error] %s 에러 발생\" % (r.status_code, r.reason)\n",
    "        raise Exception(msg)\n",
    "\n",
    "    # 인코딩 형식을 지정해 beautifulsoup 객체를 생성\n",
    "    r.encoding = 'utf-8'\n",
    "\n",
    "    # r 변수에 저장된 text 정보를 시각화, 확인\n",
    "    # print(r.text)\n",
    "\n",
    "    # r.text에서 HTML을 파싱하고,\n",
    "    # 파싱된 HTML을 나타내는\n",
    "    # BeautifulSoup 객체 soup를 생성\n",
    "    soup = BeautifulSoup(r.text)\n",
    "\n",
    "    # 추출할 음원의 수를 확인하기 위해 음악 이름을 나타내는\n",
    "    # .ellipsis.rank01의 수를 확인\n",
    "    melon_list = soup.select(\".ellipsis.rank01\")\n",
    "\n",
    "    for j in range(len(melon_list)):\n",
    "        # 노래 추출\n",
    "        songEl = soup.select('.ellipsis.rank01 > span > a')\n",
    "        song = songEl[j].text.strip()\n",
    "\n",
    "        # 가수 추출\n",
    "        singerEl = soup.select('.ellipsis.rank02 > a')\n",
    "        singer = singerEl[j].text.strip()\n",
    "\n",
    "        # 앨범 추출\n",
    "        albumEl = soup.select('.ellipsis.rank03 > a')\n",
    "        album = albumEl[j].text.strip()\n",
    "\n",
    "        # 순위\n",
    "        rank = j + 1\n",
    "\n",
    "        item = {\"가수\": singer, \"노래 제목\": song, \"앨범\": album, \"순위\": rank}\n",
    "        chart_list[i].append(item)\n",
    "chart_list"
   ]
  },
  {
   "cell_type": "code",
   "execution_count": 6,
   "metadata": {},
   "outputs": [],
   "source": [
    "# 생성된 각각의 chart별로 정리를 해줘야함\n",
    "df_melon_chart = pd.DataFrame(melon_chart)\n",
    "df_melon_chart_day = pd.DataFrame(melon_chart_day)\n",
    "df_melon_chart_week = pd.DataFrame(melon_chart_week)\n",
    "df_melon_chart_month = pd.DataFrame(melon_chart_month)\n"
   ]
  },
  {
   "cell_type": "code",
   "execution_count": 7,
   "metadata": {},
   "outputs": [],
   "source": [
    "# 순위를 우선해서 보여주기 위해 index로 설정\n",
    "df_melon_chart.set_index('순위', inplace=True)\n",
    "df_melon_chart_day.set_index('순위', inplace=True)\n",
    "df_melon_chart_week.set_index('순위', inplace=True)\n",
    "df_melon_chart_month.set_index('순위', inplace=True)"
   ]
  },
  {
   "cell_type": "code",
   "execution_count": 8,
   "metadata": {},
   "outputs": [],
   "source": [
    "# 각각의 데이터를 별도의 xlsx 파일로 저장\n",
    "df_melon_chart.to_excel('확인용_100.xlsx')\n",
    "df_melon_chart_day.to_excel('확인용_day.xlsx')\n",
    "df_melon_chart_week.to_excel('확인용_week.xlsx')\n",
    "df_melon_chart_month.to_excel('확인용_month.xlsx')"
   ]
  },
  {
   "cell_type": "code",
   "execution_count": null,
   "metadata": {},
   "outputs": [],
   "source": []
  }
 ],
 "metadata": {
  "kernelspec": {
   "display_name": "Python 3",
   "language": "python",
   "name": "python3"
  },
  "language_info": {
   "codemirror_mode": {
    "name": "ipython",
    "version": 3
   },
   "file_extension": ".py",
   "mimetype": "text/x-python",
   "name": "python",
   "nbconvert_exporter": "python",
   "pygments_lexer": "ipython3",
   "version": "3.11.0"
  },
  "orig_nbformat": 4
 },
 "nbformat": 4,
 "nbformat_minor": 2
}
