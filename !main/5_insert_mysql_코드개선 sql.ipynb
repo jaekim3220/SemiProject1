{
 "cells": [
  {
   "cell_type": "code",
   "execution_count": 6,
   "metadata": {},
   "outputs": [],
   "source": [
    "import pymysql\n",
    "from sqlalchemy import create_engine\n",
    "from pandas import DataFrame\n",
    "from pandas import read_sql, read_sql_table, read_excel"
   ]
  },
  {
   "cell_type": "code",
   "execution_count": 7,
   "metadata": {},
   "outputs": [],
   "source": [
    "# MySQL 연결 정보\n",
    "mysql_host = 'localhost'\n",
    "mysql_user = 'mysql아이디'\n",
    "mysql_password = '비번'\n",
    "mysql_database = '데이터베이스이름'\n",
    "\n",
    "# 엑셀 파일 경로\n",
    "excel_file = '멜론 차트파일이 강의 폴더에 있으면 ex -> C:/Users/kiman/megaitDataAnalysis/B.데이터_수집/세미 프로젝트 파일/melon_chart.xlsx'\n",
    "\n",
    "conStr=\"mysql+mysqldb://아디:비번@localhost/데이터베이스이름?charset=utf8\"\n",
    "\n",
    "# MySQL 연결 설정\n",
    "engine = create_engine(conStr)\n",
    "\n",
    "# 엑셀 파일 파싱하여 DataFrame 생성\n",
    "df = read_excel(excel_file)\n",
    "\n",
    "# DataFrame을 MySQL 데이터베이스에 적재\n",
    "df.to_sql('melon', con=engine, if_exists='replace', index=False)\n",
    "\n",
    "# 연결 종료\n",
    "engine.dispose()"
   ]
  },
  {
   "cell_type": "code",
   "execution_count": null,
   "metadata": {},
   "outputs": [],
   "source": []
  }
 ],
 "metadata": {
  "kernelspec": {
   "display_name": "Python 3",
   "language": "python",
   "name": "python3"
  },
  "language_info": {
   "codemirror_mode": {
    "name": "ipython",
    "version": 3
   },
   "file_extension": ".py",
   "mimetype": "text/x-python",
   "name": "python",
   "nbconvert_exporter": "python",
   "pygments_lexer": "ipython3",
   "version": "3.11.3"
  },
  "orig_nbformat": 4
 },
 "nbformat": 4,
 "nbformat_minor": 2
}
