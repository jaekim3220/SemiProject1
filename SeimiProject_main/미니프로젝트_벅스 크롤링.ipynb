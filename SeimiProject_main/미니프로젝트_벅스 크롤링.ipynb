{
 "cells": [
  {
   "cell_type": "code",
   "execution_count": null,
   "metadata": {},
   "outputs": [],
   "source": [
    "import requests\n",
    "from bs4 import BeautifulSoup\n",
    "from pandas import DataFrame\n",
    "from pandas import read_excel\n",
    "from datetime import datetime,timedelta"
   ]
  },
  {
   "cell_type": "code",
   "execution_count": null,
   "metadata": {},
   "outputs": [],
   "source": [
    "url = \"https://music.bugs.co.kr/chart/track/day/total\"\n",
    "\n",
    "userAgent = \"Mozilla/5.0 (Windows NT 10.0; Win64; x64) AppleWebKit/537.36 (KHTML, like Gecko)\"\n",
    "\n",
    "session = requests.Session()\n",
    "\n",
    "session.headers.update({\n",
    "        \"Referer\": \"\",\n",
    "        \"User-Agent\": userAgent,\n",
    "})\n",
    "\n",
    "r = session.get(url)\n",
    "\n",
    "if r.status_code != 200:\n",
    "    msg = \"[%d Error] %s 에러가 발생함\" % (r.status_code, r.reason)\n",
    "    raise Exception(msg)\n",
    "\n",
    "r.encoding = \"utf-8\"\n",
    "soup = BeautifulSoup(r.content,\"html.parser\")\n"
   ]
  },
  {
   "cell_type": "code",
   "execution_count": null,
   "metadata": {},
   "outputs": [],
   "source": [
    "일간차트 = []                    # 수집한 정보를 저장할 빈 리스트\n",
    "query = datetime(2023,1,1)      # 추출을 시작할 날짜 입력\n",
    "now = datetime.now()            # 현재 날짜\n",
    "nowday = now.strftime('%Y%m%d') # 날짜의 형태로 연산이 가능하도록 설정 \n",
    "days = int(nowday)              # 날짜를 days라는 변수로 초기화\n",
    "\n",
    "while query <= datetime.strptime(nowday, '%Y%m%d'): # 추출을 시작할 날짜가 현재 날짜가 될 때까지 반복\n",
    "    url = \"https://music.bugs.co.kr/chart/track/day/total?chartdate={}\".format(query.strftime('%Y%m%d')) # 설정된 현재 날짜를 url에 입력되도록 설정\n",
    "    r = session.get(url)         # 접속할 객체 생성\n",
    "    soup = BeautifulSoup(r.content,\"html.parser\")\n",
    "    titles = soup.select(\"p.title\")     # p.title 태그를 추출하여 titles 변수에 초기화\n",
    "    artists = soup.select(\"p.artist\")   # p.artist 태그를 추출하여 artist 변수에 초기화\n",
    "    albums = soup.select(\"a.album\")     # a.album 태그를 추출하여 album 변수에 초기화\n",
    "\n",
    "    for i in range(len(titles)):            # titles의 개수만큼 반복\n",
    "        title = titles[i].text.strip()      # titles의 text를 title 변수에 초기화\n",
    "        artist = artists[i].text.strip()    # artists의 text를 artist 변수에 초기화\n",
    "        album = albums[i+1].text.strip()    # albums의 text를 album 변수에 초기화\n",
    "        rank = i+1      # 한번 반복할때마다 rank 1씩 증가\n",
    "        if rank ==1:    # rank가 1이 되었을 때 날짜 1증가\n",
    "            days-=1     # 첫째 날에서 날짜가 1이 증가되므로 1감소\n",
    "\n",
    "        chart_list = {\"날짜\": query.strftime('%Y%m%d'),\"곡명\": title, \"아티스트\":artist, \"앨범명\":album, \"순위\" : rank} \n",
    "        일간차트.append(chart_list) # 데이터를 dictionary 형식으로 일간차트 list에 저장\n",
    "    query += timedelta(days=1)     \n",
    "df = DataFrame(일간차트)            # 일간차트 list를 DataFrame으로 생성\n",
    "df.set_index(\"순위\", inplace=True) \n",
    "df.to_excel(\"일간차트.xlsx\")        # 일간차트 list를 excel 파일로 생성\n",
    "df"
   ]
  }
 ],
 "metadata": {
  "kernelspec": {
   "display_name": "Python 3",
   "language": "python",
   "name": "python3"
  },
  "language_info": {
   "codemirror_mode": {
    "name": "ipython",
    "version": 3
   },
   "file_extension": ".py",
   "mimetype": "text/x-python",
   "name": "python",
   "nbconvert_exporter": "python",
   "pygments_lexer": "ipython3",
   "version": "3.11.0"
  },
  "orig_nbformat": 4
 },
 "nbformat": 4,
 "nbformat_minor": 2
}
