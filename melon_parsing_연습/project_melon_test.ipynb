{
 "cells": [
  {
   "cell_type": "markdown",
   "metadata": {},
   "source": [
    "# 음원사이트 멜론 파싱"
   ]
  },
  {
   "cell_type": "markdown",
   "metadata": {},
   "source": [
    "## #01. 패키지 준비"
   ]
  },
  {
   "cell_type": "code",
   "execution_count": null,
   "metadata": {},
   "outputs": [],
   "source": [
    "import pandas as pd\n",
    "from pandas import DataFrame\n",
    "import requests\n",
    "from bs4 import BeautifulSoup"
   ]
  },
  {
   "cell_type": "code",
   "execution_count": null,
   "metadata": {},
   "outputs": [],
   "source": [
    "# 수집할 사이트 주소 설정\n",
    "params = ['', 'day', 'week', 'month']\n",
    "\n",
    "# dict 형식의 노래제목, 가수, 앨범, 순위를 담을 빈 list 생성\n",
    "melon_chart = []\n",
    "\n",
    "for p in params:\n",
    "    # 수집할 컨텐츠가 있는 웹 페이지 주소\n",
    "    url = f'https://www.melon.com/chart/{p}/index.htm'\n",
    "    # print(url)\n",
    "\n",
    "\n",
    "    # 브라우저 버전정보\n",
    "    userAgent = 'Mozilla/5.0 (Windows NT 10.0; Win64; x64)AppleWebKit/537.36 (KHTML, like Gecko) Chrome/114.0.0.0 Safari/537.36'\n",
    "\n",
    "    # 접속 객체 생성\n",
    "    # request는 직접 header 정보 갱신이 불가능해 session 생성\n",
    "    session = requests.Session()\n",
    "\n",
    "    # 접속 객체에 부가정보(header) 삽입\n",
    "    session.headers.update({\n",
    "        \"Referer\": \"\",\n",
    "        \"User-Agent\": userAgent\n",
    "    })\n",
    "\n",
    "    # 생성한 접속 객체를 활용해 웹 페이지에 접속\n",
    "    # 지정된 URL에 GET 요청을 보내고\n",
    "    # 그에 대한 응답을 r 변수에 할당\n",
    "    r = session.get(url)\n",
    "\n",
    "    # 접속 실패 시 에러 코드와 에러 메시지 출력\n",
    "    if r.status_code != 200:\n",
    "        msg = \"[%d Error] %s 에러 발생\" % (r.status_code, r.reason)\n",
    "        raise Exception(msg)\n",
    "\n",
    "    # 인코딩 형식을 지정해 beautifulsoup 객체를 생성\n",
    "    r.encoding = 'utf-8'\n",
    "\n",
    "    # r 변수에 저장된 text 정보를 시각화, 확인\n",
    "    # print(r.text)\n",
    "\n",
    "\n",
    "    # r.text에서 HTML을 파싱하고,\n",
    "    # 파싱된 HTML을 나타내는\n",
    "    # BeautifulSoup 객체 soup를 생성\n",
    "    soup = BeautifulSoup(r.text)\n",
    "    # print(soup)\n",
    "\n",
    "\n",
    "\n",
    "    # 추출할 음원의 수를 확인하기 위해 음악 이름을 나타내는\n",
    "    # .ellipsis.rank01의 수를 확인\n",
    "    melon_list = soup.select(\".ellipsis.rank01\")\n",
    "    # len(melon_list)\n",
    "\n",
    "\n",
    "    for i in range(len(melon_list)):\n",
    "        # 노래 추출\n",
    "        songEl = soup.select('.ellipsis.rank01 > span > a')\n",
    "        song = songEl[i].text.strip()\n",
    "\n",
    "        # 가수 추출\n",
    "        singerEl = soup.select('.ellipsis.rank02 > a')\n",
    "        singer = singerEl[i].text.strip()\n",
    "        \n",
    "        # 앨범 추출\n",
    "        albumEl = soup.select('.ellipsis.rank03 > a')\n",
    "        album = albumEl[i].text.strip()\n",
    "\n",
    "        # 순위\n",
    "        rank =+ (1+i)\n",
    "\n",
    "        item = {\"가수\": singer, \"노래 제목\": song, \"앨범\": album, \"순위\" : rank}\n",
    "        melon_chart.append(item)\n",
    "melon_chart"
   ]
  },
  {
   "cell_type": "code",
   "execution_count": null,
   "metadata": {},
   "outputs": [],
   "source": [
    "df = DataFrame(melon_chart)\n",
    "# 순위를 우선해서 보여주기 위해 index로 설정\n",
    "df.set_index('순위',inplace=True)\n",
    "df.to_excel('확인용.xlsx')"
   ]
  },
  {
   "cell_type": "code",
   "execution_count": null,
   "metadata": {},
   "outputs": [],
   "source": []
  }
 ],
 "metadata": {
  "kernelspec": {
   "display_name": "Python 3",
   "language": "python",
   "name": "python3"
  },
  "language_info": {
   "codemirror_mode": {
    "name": "ipython",
    "version": 3
   },
   "file_extension": ".py",
   "mimetype": "text/x-python",
   "name": "python",
   "nbconvert_exporter": "python",
   "pygments_lexer": "ipython3",
   "version": "3.11.0"
  },
  "orig_nbformat": 4
 },
 "nbformat": 4,
 "nbformat_minor": 2
}
