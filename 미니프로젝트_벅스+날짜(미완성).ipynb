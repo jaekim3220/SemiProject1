{
 "cells": [
  {
   "cell_type": "code",
   "execution_count": null,
   "metadata": {},
   "outputs": [],
   "source": [
    "import requests\n",
    "from bs4 import BeautifulSoup\n",
    "from pandas import DataFrame\n",
    "from pandas import read_excel\n",
    "from datetime import datetime,timedelta\n",
    "from dateutil.relativedelta import relativedelta\n"
   ]
  },
  {
   "cell_type": "code",
   "execution_count": null,
   "metadata": {},
   "outputs": [],
   "source": [
    "url = \"https://music.bugs.co.kr/chart/track/day/total\"\n",
    "\n",
    "userAgent = \"Mozilla/5.0 (Windows NT 10.0; Win64; x64) AppleWebKit/537.36 (KHTML, like Gecko)\"\n",
    "\n",
    "session = requests.Session()\n",
    "\n",
    "session.headers.update({\n",
    "        \"Referer\": \"\",\n",
    "        \"User-Agent\": userAgent,\n",
    "})\n",
    "\n",
    "r = session.get(url)\n",
    "\n",
    "if r.status_code != 200:\n",
    "    msg = \"[%d Error] %s 에러가 발생함\" % (r.status_code, r.reason)\n",
    "    raise Exception(msg)\n",
    "\n",
    "r.encoding = \"utf-8\"\n",
    "soup = BeautifulSoup(r.content,\"html.parser\")\n"
   ]
  },
  {
   "cell_type": "code",
   "execution_count": null,
   "metadata": {},
   "outputs": [],
   "source": [
    "일간차트 = []\n",
    "query = datetime(2023,5,5)\n",
    "now = datetime.now()\n",
    "nowday = now.strftime('%Y%m%d')\n",
    "days = int(nowday)\n",
    "\n",
    "while query <= datetime.strptime(nowday, '%Y%m%d'):\n",
    "    url = \"https://music.bugs.co.kr/chart/track/day/total?chartdate={}\".format(query.strftime('%Y%m%d'))\n",
    "    r = session.get(url)\n",
    "    soup = BeautifulSoup(r.content,\"html.parser\")\n",
    "    titles = soup.select(\"p.title\")\n",
    "    artists = soup.select(\"p.artist\")\n",
    "    albums = soup.select(\"a.album\")\n",
    "\n",
    "    for i in range(len(titles)):\n",
    "        title = titles[i].text.strip()\n",
    "        artist = artists[i].text.strip()\n",
    "        album = albums[i+1].text.strip()\n",
    "        rank = i+1 \n",
    "        if rank ==1:\n",
    "            days-=1\n",
    "\n",
    "        chart_list = {\"곡명\": title, \"아티스트\":artist, \"앨범명\":album, \"순위\" : rank, \"날짜\": query.strftime('%Y%m%d')}\n",
    "        일간차트.append(chart_list)\n",
    "    query += timedelta(days=1)\n",
    "df = DataFrame(일간차트)\n",
    "df.set_index(\"순위\", inplace=True)\n",
    "df.to_excel(\"일간차트.xlsx\")\n",
    "df"
   ]
  }
 ],
 "metadata": {
  "kernelspec": {
   "display_name": "Python 3",
   "language": "python",
   "name": "python3"
  },
  "language_info": {
   "codemirror_mode": {
    "name": "ipython",
    "version": 3
   },
   "file_extension": ".py",
   "mimetype": "text/x-python",
   "name": "python",
   "nbconvert_exporter": "python",
   "pygments_lexer": "ipython3",
   "version": "3.11.3"
  },
  "orig_nbformat": 4
 },
 "nbformat": 4,
 "nbformat_minor": 2
}
