{
 "cells": [
  {
   "cell_type": "code",
   "execution_count": null,
   "metadata": {},
   "outputs": [],
   "source": [
    "import requests\n",
    "from bs4 import BeautifulSoup\n",
    "from pandas import DataFrame\n",
    "from pandas import read_excel\n",
    "from datetime import datetime,timedelta\n",
    "from dateutil.relativedelta import relativedelta\n"
   ]
  },
  {
   "cell_type": "code",
   "execution_count": null,
   "metadata": {},
   "outputs": [],
   "source": [
    "# 수집할 컨텐츠가 있는 날짜별 웹 페이지 주소\n",
    "url = \"https://music.bugs.co.kr/chart/track/day/total\"\n",
    "\n",
    "# 브라우저 버전정보\n",
    "userAgent = \"Mozilla/5.0 (Windows NT 10.0; Win64; x64) AppleWebKit/537.36 (KHTML, like Gecko)\"\n",
    "\n",
    "# 접속 객체 생성\n",
    "# request는 직접 header 정보 갱신이 불가능해 session 생성\n",
    "session = requests.Session()\n",
    "\n",
    "# 접속 객체에 부가정보(header) 삽입, 크롤링이 가능하도록 유도\n",
    "session.headers.update({\n",
    "        \"Referer\": \"\",\n",
    "        \"User-Agent\": userAgent,\n",
    "})\n",
    "\n",
    "# 생성한 접속 객체를 활용해 웹 페이지에 접속\n",
    "# 지정된 URL에 GET 요청을 보내고\n",
    "# 그에 대한 응답을 r 변수에 할당\n",
    "r = session.get(url)\n",
    "\n",
    "# 접속 실패 시 에러 코드와 에러 메시지 출력\n",
    "if r.status_code != 200:\n",
    "    msg = \"[%d Error] %s 에러가 발생함\" % (r.status_code, r.reason)\n",
    "    raise Exception(msg)\n",
    "        \n",
    "# 인코딩 형식을 지정해 beautifulsoup 객체를 생성\n",
    "r.encoding = \"utf-8\"\n",
    "\n",
    "# BeautifulSoup 객체 soup를 생성\n",
    "soup = BeautifulSoup(r.content,\"html.parser\")\n"
   ]
  },
  {
   "cell_type": "code",
   "execution_count": null,
   "metadata": {},
   "outputs": [],
   "source": [
    "# dict 형식의 제목, 가수, 앨범, 순위, 차트 일수 등 정보를 담을 빈 list 생성\n",
    "일간차트 = []\n",
    "\n",
    "#기준 날짜 설정\n",
    "query = datetime(2023,6,1)\n",
    "now = datetime.now()\n",
    "nowday = now.strftime('%Y%m%d')\n",
    "days = int(nowday)\n",
    "\n",
    "#기준 날짜부터 오늘까지 반복\n",
    "while query <= datetime.strptime(nowday, '%Y%m%d'):\n",
    "    #벅스 홈페이지 URL\n",
    "    url = \"https://music.bugs.co.kr/chart/track/day/total?chartdate={}\".format(query.strftime('%Y%m%d'))\n",
    "    r = session.get(url)\n",
    "    soup = BeautifulSoup(r.content,\"html.parser\")\n",
    "\n",
    "    #각 음악 정보 추출하여 빈 리스트에 추가\n",
    "    titles = soup.select(\"p.title\") #노래명 \n",
    "    artists = soup.select(\"p.artist\") #가수명\n",
    "    albums = soup.select(\"a.album\") #앨범명\n",
    "\n",
    "    for i in range(len(titles)):\n",
    "        title = titles[i].text.strip()\n",
    "        artist = artists[i].text.strip()\n",
    "        album = albums[i+1].text.strip()\n",
    "        rank = i+1 \n",
    "        if rank ==1:\n",
    "            days-=1\n",
    "\n",
    "        #음악 정보를 딕셔너리로 저장하여 리스트에 추가\n",
    "        chart_list = {\"곡명\": title, \"아티스트\":artist, \"앨범명\":album, \"순위\" : rank, \"날짜\": query.strftime('%Y%m%d')}\n",
    "        일간차트.append(chart_list)\n",
    "    #다음 날짜로 이동\n",
    "    query += timedelta(days=1)\n",
    "df = DataFrame(일간차트)\n",
    "# 순위를 우선해서 보여주기 위해 index로 설정\n",
    "df.set_index(\"순위\", inplace=True)\n",
    "df.to_excel(\"벅스일간차트.xlsx\")\n",
    "df"
   ]
  }
 ],
 "metadata": {
  "kernelspec": {
   "display_name": "Python 3",
   "language": "python",
   "name": "python3"
  },
  "language_info": {
   "codemirror_mode": {
    "name": "ipython",
    "version": 3
   },
   "file_extension": ".py",
   "mimetype": "text/x-python",
   "name": "python",
   "nbconvert_exporter": "python",
   "pygments_lexer": "ipython3",
   "version": "3.11.0"
  },
  "orig_nbformat": 4
 },
 "nbformat": 4,
 "nbformat_minor": 2
}
